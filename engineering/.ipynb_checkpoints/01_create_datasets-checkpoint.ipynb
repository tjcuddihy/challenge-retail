{
 "cells": [
  {
   "cell_type": "code",
   "execution_count": 2,
   "metadata": {},
   "outputs": [],
   "source": [
    "import pandas as pd"
   ]
  },
  {
   "cell_type": "code",
   "execution_count": 3,
   "metadata": {},
   "outputs": [],
   "source": [
    "raw_data = pd.read_csv('../data/01_raw/Retail.csv')"
   ]
  },
  {
   "cell_type": "markdown",
   "metadata": {},
   "source": [
    "# Sales breakdown data"
   ]
  },
  {
   "cell_type": "markdown",
   "metadata": {},
   "source": [
    "## Yearly performance"
   ]
  },
  {
   "cell_type": "code",
   "execution_count": 4,
   "metadata": {},
   "outputs": [],
   "source": [
    "yearly_revenue = pd.DataFrame(raw_data.groupby('Year').Revenue.sum())\n",
    "yearly_revenue['%YoY'] = (yearly_revenue['Revenue'].pct_change() * 100).apply(lambda x: f'{x:,.2f} %')\n",
    "yearly_revenue['Revenue'] = yearly_revenue['Revenue'].apply(lambda x: f'$ {x:,.0f}')\n",
    "yearly_revenue['%YoY'][2004] = '' # Remove the nan %\n",
    "\n",
    "yearly_revenue.to_csv('../data/03_primary/yearly_revenue.csv')"
   ]
  },
  {
   "cell_type": "code",
   "execution_count": 5,
   "metadata": {},
   "outputs": [],
   "source": [
    "yearly_performance = pd.DataFrame(raw_data.groupby('Year').sum())[['Revenue', 'Gross profit']]\n",
    "yearly_performance = yearly_performance.reset_index().melt(id_vars=['Year'])\n",
    "\n",
    "yearly_performance.to_csv('../data/03_primary/yearly_performance.csv')"
   ]
  },
  {
   "cell_type": "code",
   "execution_count": 7,
   "metadata": {},
   "outputs": [],
   "source": [
    "sales_performance = raw_data[['Year', 'Product', 'Order method type', 'Retailer country', 'Revenue', 'Quantity', 'Gross profit']].dropna()\n",
    "\n",
    "sales_performance.to_csv('../data/03_primary/sales_performance.csv', index=False)"
   ]
  },
  {
   "cell_type": "code",
   "execution_count": null,
   "metadata": {},
   "outputs": [],
   "source": []
  }
 ],
 "metadata": {
  "kernelspec": {
   "display_name": "Python 3",
   "language": "python",
   "name": "python3"
  },
  "language_info": {
   "codemirror_mode": {
    "name": "ipython",
    "version": 3
   },
   "file_extension": ".py",
   "mimetype": "text/x-python",
   "name": "python",
   "nbconvert_exporter": "python",
   "pygments_lexer": "ipython3",
   "version": "3.9.0"
  }
 },
 "nbformat": 4,
 "nbformat_minor": 4
}
