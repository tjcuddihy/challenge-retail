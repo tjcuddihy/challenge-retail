{
 "cells": [
  {
   "cell_type": "code",
   "execution_count": 1,
   "metadata": {},
   "outputs": [],
   "source": [
    "import pandas as pd\n",
    "from scipy.stats import linregress\n",
    "\n",
    "DATA_PATH = \"../report/data/\""
   ]
  },
  {
   "cell_type": "code",
   "execution_count": 2,
   "metadata": {},
   "outputs": [],
   "source": [
    "raw_data = pd.read_csv(DATA_PATH+'01_raw/Retail.csv')"
   ]
  },
  {
   "cell_type": "markdown",
   "metadata": {},
   "source": [
    "# Q1 - Sales breakdown data"
   ]
  },
  {
   "cell_type": "code",
   "execution_count": 3,
   "metadata": {},
   "outputs": [],
   "source": [
    "yearly_revenue = pd.DataFrame(raw_data.groupby('Year').Revenue.sum())\n",
    "yearly_revenue['%YoY'] = (yearly_revenue['Revenue'].pct_change() * 100).apply(lambda x: f'{x:,.2f} %')\n",
    "yearly_revenue['Revenue'] = yearly_revenue['Revenue'].apply(lambda x: f'$ {x:,.0f}')\n",
    "yearly_revenue['%YoY'][2004] = '' # Remove the nan %\n",
    "yearly_revenue.to_csv(DATA_PATH+'03_primary/yearly_revenue.csv')"
   ]
  },
  {
   "cell_type": "code",
   "execution_count": 4,
   "metadata": {},
   "outputs": [],
   "source": [
    "yearly_performance = pd.DataFrame(raw_data.groupby('Year').sum())[['Revenue', 'Gross profit']]\n",
    "yearly_performance = yearly_performance.reset_index().melt(id_vars=['Year'])\n",
    "yearly_performance.to_csv(DATA_PATH+'03_primary/yearly_performance.csv')"
   ]
  },
  {
   "cell_type": "code",
   "execution_count": 5,
   "metadata": {},
   "outputs": [],
   "source": [
    "sales_performance = raw_data[['Year', 'Product', 'Order method type', 'Retailer country', 'Revenue', 'Quantity', 'Gross profit']].dropna()\n",
    "sales_performance.to_csv(DATA_PATH+'03_primary/sales_performance.csv')"
   ]
  },
  {
   "cell_type": "code",
   "execution_count": 6,
   "metadata": {},
   "outputs": [],
   "source": [
    "performance_country = raw_data.groupby(['Year', 'Retailer country']).sum()\n",
    "performance_country['Gross profit yoy%'] = performance_country.groupby('Retailer country')[['Gross profit']].apply(pd.Series.pct_change)\n",
    "performance_country.to_csv(DATA_PATH+'03_primary/performance_country.csv')"
   ]
  },
  {
   "cell_type": "code",
   "execution_count": 7,
   "metadata": {},
   "outputs": [],
   "source": [
    "performance_channel = raw_data.groupby(['Year', 'Order method type']).sum()\n",
    "performance_channel['Gross profit yoy%'] = performance_channel.groupby('Order method type')[['Gross profit']].apply(pd.Series.pct_change)\n",
    "performance_channel.to_csv(DATA_PATH+'03_primary/performance_channel.csv')"
   ]
  },
  {
   "cell_type": "code",
   "execution_count": 8,
   "metadata": {},
   "outputs": [],
   "source": [
    "performance_country_channel = raw_data.groupby(['Year', 'Retailer country', 'Order method type']).sum()\n",
    "performance_country_channel['Gross profit yoy%'] = performance_country_channel.groupby('Retailer country')[['Gross profit']].apply(pd.Series.pct_change)\n",
    "performance_country_channel.to_csv(DATA_PATH+'03_primary/performance_country_channel.csv')"
   ]
  },
  {
   "cell_type": "code",
   "execution_count": 9,
   "metadata": {},
   "outputs": [],
   "source": [
    "performance_line = raw_data.groupby(['Year', 'Product line']).sum()\n",
    "performance_line['Gross profit yoy%'] = performance_line.groupby('Product line')[['Gross profit']].apply(pd.Series.pct_change)\n",
    "performance_line.to_csv(DATA_PATH+'03_primary/performance_line.csv')"
   ]
  },
  {
   "cell_type": "code",
   "execution_count": 10,
   "metadata": {},
   "outputs": [],
   "source": [
    "performance_type = raw_data.groupby(['Year', 'Product type']).sum()\n",
    "performance_type['Gross profit yoy%'] = performance_type.groupby('Product type')[['Gross profit']].apply(pd.Series.pct_change)\n",
    "performance_type.to_csv(DATA_PATH+'03_primary/performance_type.csv')"
   ]
  },
  {
   "cell_type": "code",
   "execution_count": 11,
   "metadata": {},
   "outputs": [],
   "source": [
    "performance_product = raw_data.groupby(['Year', 'Product']).sum()\n",
    "performance_product['Gross profit yoy%'] = performance_product.groupby('Product')[['Gross profit']].apply(pd.Series.pct_change)\n",
    "performance_product.to_csv(DATA_PATH+'03_primary/performance_product.csv')"
   ]
  },
  {
   "cell_type": "markdown",
   "metadata": {},
   "source": [
    "# Q2"
   ]
  },
  {
   "cell_type": "code",
   "execution_count": 12,
   "metadata": {},
   "outputs": [],
   "source": [
    "performance_profit = raw_data.copy()\n",
    "performance_profit = performance_profit.assign(gross_margin = lambda x: x['Gross profit']/x['Revenue'] )\n",
    "\n",
    "# performance_profit = performance_profit.groupby(['Year', 'Retailer country', 'Product type']).mean()\n",
    "performance_profit = performance_profit.groupby(['Year', 'Retailer country', 'Product type']).agg(\n",
    "{'Quantity': 'sum',\n",
    "'gross_margin': 'mean',\n",
    "'Unit price': 'mean',\n",
    "'Revenue': 'sum'})\n",
    "performance_profit.to_csv(DATA_PATH+'03_primary/performance_profit.csv')"
   ]
  },
  {
   "cell_type": "code",
   "execution_count": 13,
   "metadata": {},
   "outputs": [],
   "source": [
    "df = raw_data.groupby(['Retailer country', 'Product', 'Year']).mean().reset_index()\n",
    "quantity_price_relationship = df[['Retailer country', 'Product']].drop_duplicates()\n",
    "# Caclulate and scale slope to be between -1 and 1\n",
    "slope = df.groupby(['Retailer country', 'Product']).apply(lambda x: linregress(x['Year'],x['Unit price'])[0])\n",
    "slope = slope/slope.abs().max()\n",
    "\n",
    "quantity_price_relationship = quantity_price_relationship.assign(\n",
    "    correlation = df.groupby(['Retailer country', 'Product'])[['Quantity', 'Unit price']].corr().iloc[0::2,-1].values,\n",
    "    slope = slope.values)\n",
    "quantity_price_relationship.to_csv(DATA_PATH+'03_primary/quantity_price_relationship.csv')"
   ]
  },
  {
   "cell_type": "markdown",
   "metadata": {},
   "source": [
    "# Q3"
   ]
  },
  {
   "cell_type": "code",
   "execution_count": 14,
   "metadata": {},
   "outputs": [],
   "source": [
    "df = raw_data.groupby(['Retailer country', 'Year']).sum().reset_index()\n",
    "\n",
    "def predictionator5000(group, year=2008):\n",
    "    slope, intercept, *other = linregress(group['Year'], group['Revenue'])\n",
    "    return intercept + slope * year\n",
    "predictions = pd.DataFrame({'Revenue': df.groupby(['Retailer country']).apply(predictionator5000)}).reset_index()\n",
    "predictions['Year'] = 2008\n",
    "\n",
    "revenue = pd.concat([df[['Retailer country', 'Year', 'Revenue']],\n",
    "                     predictions])\n",
    "revenue.to_csv(DATA_PATH+'03_primary/revenue.csv')"
   ]
  }
 ],
 "metadata": {
  "kernelspec": {
   "display_name": "Python 3",
   "language": "python",
   "name": "python3"
  },
  "language_info": {
   "codemirror_mode": {
    "name": "ipython",
    "version": 3
   },
   "file_extension": ".py",
   "mimetype": "text/x-python",
   "name": "python",
   "nbconvert_exporter": "python",
   "pygments_lexer": "ipython3",
   "version": "3.9.0"
  }
 },
 "nbformat": 4,
 "nbformat_minor": 4
}
